{
 "cells": [
  {
   "cell_type": "markdown",
   "id": "0e5c8061",
   "metadata": {
    "id": "0e5c8061"
   },
   "source": [
    "\n",
    "# MLflow Experiment Notebook\n",
    "\n",
    "\n"
   ]
  },
  {
   "cell_type": "code",
   "execution_count": null,
   "id": "RuFYOLFzP2ca",
   "metadata": {
    "colab": {
     "base_uri": "https://localhost:8080/"
    },
    "id": "RuFYOLFzP2ca",
    "outputId": "5d1537e9-3678-47fb-c8c6-02e6f35b74f3"
   },
   "outputs": [],
   "source": []
  },
  {
   "cell_type": "code",
   "execution_count": 1,
   "id": "7e7f2d5e",
   "metadata": {
    "id": "7e7f2d5e"
   },
   "outputs": [],
   "source": [
    "import mlflow\n",
    "import mlflow.sklearn\n",
    "import pandas as pd\n",
    "from sklearn.model_selection import train_test_split\n",
    "from sklearn.linear_model import LinearRegression\n",
    "from sklearn.metrics import mean_squared_error, r2_score\n",
    "from mlflow.models import infer_signature\n"
   ]
  },
  {
   "cell_type": "code",
   "execution_count": 2,
   "id": "dddfc6c2",
   "metadata": {
    "id": "dddfc6c2"
   },
   "outputs": [],
   "source": [
    "# Load dataset\n",
    "data = pd.read_csv(\"economic_data.csv\")\n"
   ]
  },
  {
   "cell_type": "code",
   "execution_count": 3,
   "id": "744c09a6",
   "metadata": {
    "id": "744c09a6"
   },
   "outputs": [],
   "source": [
    "# Define features and target variable\n",
    "X = data[[\"interest_rate\", \"inflation_rate\", \"gdp_growth\"]]\n",
    "y = data[\"loan_default_risk\"]\n"
   ]
  },
  {
   "cell_type": "code",
   "execution_count": 4,
   "id": "d1d2e0cf",
   "metadata": {
    "id": "d1d2e0cf"
   },
   "outputs": [],
   "source": [
    "# Split into training and testing sets\n",
    "X_train, X_test, y_train, y_test = train_test_split(X, y, test_size=0.2, random_state=42)\n"
   ]
  },
  {
   "cell_type": "code",
   "execution_count": 5,
   "id": "0aa07046",
   "metadata": {
    "colab": {
     "base_uri": "https://localhost:8080/"
    },
    "id": "0aa07046",
    "outputId": "bdb9a8eb-fc32-47b6-a7e2-096e05e7f0d9"
   },
   "outputs": [
    {
     "data": {
      "text/plain": [
       "<Experiment: artifact_location='/home/cdsw/.experiments/sp9n-8vbw-0c0v-7zmd', creation_time=None, experiment_id='sp9n-8vbw-0c0v-7zmd', last_update_time=None, lifecycle_stage='active', name='demo_experiment', tags={}>"
      ]
     },
     "execution_count": 5,
     "metadata": {},
     "output_type": "execute_result"
    }
   ],
   "source": [
    "# Ensure MLflow is set to track a new experiment\n",
    "mlflow.set_experiment(\"demo_experiment\")\n"
   ]
  },
  {
   "cell_type": "code",
   "execution_count": 6,
   "id": "7a21cc5e-38a1-4fd4-8bc6-4aa9543d69a2",
   "metadata": {},
   "outputs": [
    {
     "name": "stderr",
     "output_type": "stream",
     "text": [
      "Successfully registered model 'EconomicRiskModel'.\n",
      "2025/04/02 14:51:46 INFO mlflow.store.model_registry.abstract_store: Waiting up to 300 seconds for model version to finish creation. Model name: EconomicRiskModel, version 6\n"
     ]
    },
    {
     "name": "stdout",
     "output_type": "stream",
     "text": [
      "MLflow experiment completed and model registered successfully!\n"
     ]
    },
    {
     "name": "stderr",
     "output_type": "stream",
     "text": [
      "Created version '6' of model 'EconomicRiskModel'.\n"
     ]
    }
   ],
   "source": [
    "# Start the MLflow run\n",
    "with mlflow.start_run() as run:\n",
    "    try:\n",
    "        # Log some parameters for clarity\n",
    "        mlflow.log_param(\"test_size\", 0.2)\n",
    "        mlflow.log_param(\"random_state\", 42)\n",
    "        mlflow.log_param(\"model_type\", \"LinearRegression\")\n",
    "        \n",
    "        # Define and train your model\n",
    "        model = LinearRegression()\n",
    "        model.fit(X_train, y_train)\n",
    "        \n",
    "        # Make predictions and evaluate\n",
    "        predictions = model.predict(X_test)\n",
    "        mse = mean_squared_error(y_test, predictions)\n",
    "        r2 = r2_score(y_test, predictions)\n",
    "        \n",
    "        # Log evaluation metrics\n",
    "        mlflow.log_metric(\"mean_squared_error\", mse)\n",
    "        mlflow.log_metric(\"r2_score\", r2)\n",
    "        \n",
    "        # Log the model along with its signature\n",
    "        signature = infer_signature(X_train, model.predict(X_train))\n",
    "        mlflow.sklearn.log_model(\n",
    "            sk_model=model,\n",
    "            artifact_path=\"model\",\n",
    "            signature=signature,\n",
    "            registered_model_name=\"EconomicRiskModel\"\n",
    "        )\n",
    "        \n",
    "        print(\"MLflow experiment completed and model registered successfully!\")\n",
    "        \n",
    "    except Exception as e:\n",
    "        # Capture the traceback and log it as an artifact\n",
    "        error_trace = traceback.format_exc()\n",
    "        print(\"An error occurred during the MLflow run:\")\n",
    "        print(error_trace)\n",
    "        mlflow.set_tag(\"run_status\", \"failed\")\n",
    "        \n",
    "        # Write the traceback to a temporary file and log it as an artifact\n",
    "        error_file = \"error_trace.txt\"\n",
    "        with open(error_file, \"w\") as f:\n",
    "            f.write(error_trace)\n",
    "        mlflow.log_artifact(error_file)\n",
    "        \n",
    "        # Re-raise the exception so that the notebook cell shows the error\n",
    "        raise"
   ]
  },
  {
   "cell_type": "code",
   "execution_count": 7,
   "id": "659d5f7a",
   "metadata": {
    "colab": {
     "base_uri": "https://localhost:8080/"
    },
    "id": "659d5f7a",
    "outputId": "e54b27c0-cb45-403c-e5dc-2328b0d4762d"
   },
   "outputs": [
    {
     "name": "stdout",
     "output_type": "stream",
     "text": [
      "MLflow experiment completed and model registered successfully!\n"
     ]
    }
   ],
   "source": [
    "print(\"MLflow experiment completed and model registered successfully!\")\n"
   ]
  },
  {
   "cell_type": "code",
   "execution_count": 8,
   "id": "cfea6f30-30c8-43ab-96a8-868f969f1178",
   "metadata": {},
   "outputs": [],
   "source": [
    "mlflow.end_run()"
   ]
  }
 ],
 "metadata": {
  "colab": {
   "provenance": []
  },
  "kernelspec": {
   "display_name": "Python 3 (ipykernel)",
   "language": "python",
   "name": "python3"
  },
  "language_info": {
   "codemirror_mode": {
    "name": "ipython",
    "version": 3
   },
   "file_extension": ".py",
   "mimetype": "text/x-python",
   "name": "python",
   "nbconvert_exporter": "python",
   "pygments_lexer": "ipython3",
   "version": "3.10.16"
  }
 },
 "nbformat": 4,
 "nbformat_minor": 5
}
