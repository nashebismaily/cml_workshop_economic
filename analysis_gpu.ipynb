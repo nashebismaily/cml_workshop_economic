{
  "cells": [
    {
      "cell_type": "code",
      "execution_count": null,
      "id": "a3278b44-0c92-4fc2-8314-97427525ac3e",
      "metadata": {
        "id": "a3278b44-0c92-4fc2-8314-97427525ac3e"
      },
      "outputs": [],
      "source": [
        "import subprocess\n",
        "print(subprocess.getoutput(\"nvidia-smi\"))"
      ]
    },
    {
      "cell_type": "code",
      "execution_count": null,
      "id": "4637f8b9-c2d9-4daf-a439-65606699f160",
      "metadata": {
        "id": "4637f8b9-c2d9-4daf-a439-65606699f160"
      },
      "outputs": [],
      "source": [
        "from tensorflow.python.client import device_lib\n",
        "assert 'GPU' in str(device_lib.list_local_devices())\n",
        "device_lib.list_local_devices()"
      ]
    }
  ],
  "metadata": {
    "colab": {
      "provenance": []
    },
    "kernelspec": {
      "display_name": "Python 3 (ipykernel)",
      "language": "python",
      "name": "python3"
    },
    "language_info": {
      "codemirror_mode": {
        "name": "ipython",
        "version": 3
      },
      "file_extension": ".py",
      "mimetype": "text/x-python",
      "name": "python",
      "nbconvert_exporter": "python",
      "pygments_lexer": "ipython3",
      "version": "3.10.16"
    }
  },
  "nbformat": 4,
  "nbformat_minor": 5
}